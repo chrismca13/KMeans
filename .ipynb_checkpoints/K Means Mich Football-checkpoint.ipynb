{
 "cells": [
  {
   "cell_type": "code",
   "execution_count": 1,
   "id": "638bd2c6",
   "metadata": {},
   "outputs": [],
   "source": [
    "# Import Libraries:\n",
    "import pandas as pd\n",
    "import numpy as np\n",
    "import re \n",
    "import seaborn as sns\n",
    "import matplotlib.pyplot as plt\n",
    "\n",
    "from sklearn.cluster import KMeans\n",
    "from sklearn.preprocessing import StandardScaler"
   ]
  },
  {
   "cell_type": "markdown",
   "id": "801d859a-c45e-433a-aaa6-6492cb34fd7b",
   "metadata": {},
   "source": [
    "### Import Data Roster Data"
   ]
  },
  {
   "cell_type": "code",
   "execution_count": 2,
   "id": "6b18ae7c-bc18-47de-9761-581d72c5e952",
   "metadata": {},
   "outputs": [
    {
     "data": {
      "text/html": [
       "<div>\n",
       "<style scoped>\n",
       "    .dataframe tbody tr th:only-of-type {\n",
       "        vertical-align: middle;\n",
       "    }\n",
       "\n",
       "    .dataframe tbody tr th {\n",
       "        vertical-align: top;\n",
       "    }\n",
       "\n",
       "    .dataframe thead th {\n",
       "        text-align: right;\n",
       "    }\n",
       "</style>\n",
       "<table border=\"1\" class=\"dataframe\">\n",
       "  <thead>\n",
       "    <tr style=\"text-align: right;\">\n",
       "      <th></th>\n",
       "      <th>Player</th>\n",
       "      <th>Class</th>\n",
       "      <th>Pos</th>\n",
       "    </tr>\n",
       "  </thead>\n",
       "  <tbody>\n",
       "    <tr>\n",
       "      <th>0</th>\n",
       "      <td>Cade McNamara</td>\n",
       "      <td>JR</td>\n",
       "      <td>QB</td>\n",
       "    </tr>\n",
       "    <tr>\n",
       "      <th>1</th>\n",
       "      <td>J.J. McCarthy</td>\n",
       "      <td>FR</td>\n",
       "      <td>QB</td>\n",
       "    </tr>\n",
       "    <tr>\n",
       "      <th>2</th>\n",
       "      <td>Alan Bowman</td>\n",
       "      <td>SR</td>\n",
       "      <td>QB</td>\n",
       "    </tr>\n",
       "    <tr>\n",
       "      <th>3</th>\n",
       "      <td>Dan Villari</td>\n",
       "      <td>SO</td>\n",
       "      <td>QB</td>\n",
       "    </tr>\n",
       "    <tr>\n",
       "      <th>4</th>\n",
       "      <td>Jesse Madden</td>\n",
       "      <td>FR</td>\n",
       "      <td>QB</td>\n",
       "    </tr>\n",
       "  </tbody>\n",
       "</table>\n",
       "</div>"
      ],
      "text/plain": [
       "          Player Class Pos\n",
       "0  Cade McNamara    JR  QB\n",
       "1  J.J. McCarthy    FR  QB\n",
       "2    Alan Bowman    SR  QB\n",
       "3    Dan Villari    SO  QB\n",
       "4   Jesse Madden    FR  QB"
      ]
     },
     "execution_count": 2,
     "metadata": {},
     "output_type": "execute_result"
    }
   ],
   "source": [
    "# Data Source: 'https://www.sports-reference.com/cfb/schools/michigan/2021-roster.html'\n",
    "\n",
    "# Read in roster data\n",
    "roster_df = pd.read_html('https://www.sports-reference.com/cfb/schools/michigan/2021-roster.html')\n",
    "roster_df = pd.DataFrame(roster_df[0])\n",
    "\n",
    "\n",
    "roster_df = roster_df[['Player', 'Class', 'Pos']]\n",
    "roster_df = roster_df[roster_df['Player'] != 'Player']\n",
    "\n",
    "roster_df.head()"
   ]
  },
  {
   "cell_type": "markdown",
   "id": "2d536b72",
   "metadata": {},
   "source": [
    "### Import Player Rushing Yards and Receiving Yards"
   ]
  },
  {
   "cell_type": "code",
   "execution_count": 3,
   "id": "606245d0-3e06-49c6-94fa-8767e72d9e17",
   "metadata": {},
   "outputs": [
    {
     "data": {
      "text/html": [
       "<div>\n",
       "<style scoped>\n",
       "    .dataframe tbody tr th:only-of-type {\n",
       "        vertical-align: middle;\n",
       "    }\n",
       "\n",
       "    .dataframe tbody tr th {\n",
       "        vertical-align: top;\n",
       "    }\n",
       "\n",
       "    .dataframe thead th {\n",
       "        text-align: right;\n",
       "    }\n",
       "</style>\n",
       "<table border=\"1\" class=\"dataframe\">\n",
       "  <thead>\n",
       "    <tr style=\"text-align: right;\">\n",
       "      <th></th>\n",
       "      <th>Player</th>\n",
       "      <th>Ru Yds</th>\n",
       "      <th>Re Yds</th>\n",
       "    </tr>\n",
       "  </thead>\n",
       "  <tbody>\n",
       "    <tr>\n",
       "      <th>0</th>\n",
       "      <td>Hassan Haskins</td>\n",
       "      <td>1327.0</td>\n",
       "      <td>131.0</td>\n",
       "    </tr>\n",
       "    <tr>\n",
       "      <th>1</th>\n",
       "      <td>Blake Corum</td>\n",
       "      <td>949.0</td>\n",
       "      <td>141.0</td>\n",
       "    </tr>\n",
       "    <tr>\n",
       "      <th>2</th>\n",
       "      <td>Cade McNamara</td>\n",
       "      <td>26.0</td>\n",
       "      <td>0.0</td>\n",
       "    </tr>\n",
       "    <tr>\n",
       "      <th>3</th>\n",
       "      <td>Donovan Edwards</td>\n",
       "      <td>174.0</td>\n",
       "      <td>265.0</td>\n",
       "    </tr>\n",
       "    <tr>\n",
       "      <th>4</th>\n",
       "      <td>J.J. McCarthy</td>\n",
       "      <td>124.0</td>\n",
       "      <td>0.0</td>\n",
       "    </tr>\n",
       "  </tbody>\n",
       "</table>\n",
       "</div>"
      ],
      "text/plain": [
       "            Player  Ru Yds  Re Yds\n",
       "0   Hassan Haskins  1327.0   131.0\n",
       "1      Blake Corum   949.0   141.0\n",
       "2    Cade McNamara    26.0     0.0\n",
       "3  Donovan Edwards   174.0   265.0\n",
       "4    J.J. McCarthy   124.0     0.0"
      ]
     },
     "execution_count": 3,
     "metadata": {},
     "output_type": "execute_result"
    }
   ],
   "source": [
    "stats_df = pd.read_csv('2021_Umich_Player_Stats.csv')\n",
    "\n",
    "stats_df = stats_df[['Player', 'Ru Yds', 'Re Yds']]\n",
    "stats_df.fillna(0, inplace = True) # Fill n/a with 0's\n",
    "stats_df.head()"
   ]
  },
  {
   "cell_type": "markdown",
   "id": "f5a768fa",
   "metadata": {},
   "source": [
    "### Join player roster data with the stat data \n",
    "\n",
    "#### We can use this to filter out the stats of known non-skill position players who touched the ball. Like a linebacker who ran a fake punt for 15 yards."
   ]
  },
  {
   "cell_type": "code",
   "execution_count": 19,
   "id": "3792fe74-e387-4994-bcb2-2ffd33b6d6fb",
   "metadata": {},
   "outputs": [],
   "source": [
    "df_final = pd.merge(left = stats_df, right = roster_df, how = 'left', on = 'Player')\n",
    "\n",
    "#only include RBs, WRs, TEs\n",
    "df_final = df_final[df_final['Pos'].isin(['RB', 'WR', 'TE'])]\n",
    "df_final.reset_index(inplace = True)\n",
    "\n",
    "df_final_2 = df_final[['Ru Yds', 'Re Yds']]"
   ]
  },
  {
   "cell_type": "code",
   "execution_count": null,
   "id": "45902190-38fc-4238-9b4f-40e3dc8c6044",
   "metadata": {},
   "outputs": [],
   "source": []
  },
  {
   "cell_type": "code",
   "execution_count": 5,
   "id": "7d9cf6cf-bfe2-49f4-9687-cb816ba8a8ef",
   "metadata": {},
   "outputs": [],
   "source": []
  },
  {
   "cell_type": "code",
   "execution_count": null,
   "id": "d66c1a65-532a-4ecd-b2ba-d1ed91eca2fa",
   "metadata": {},
   "outputs": [],
   "source": []
  },
  {
   "cell_type": "code",
   "execution_count": 6,
   "id": "70f983d6-2c21-4533-b81c-a91c7842aa18",
   "metadata": {},
   "outputs": [],
   "source": [
    "# For easier entry in the future:\n",
    "\n",
    "# dataframe \n",
    "df = df_final_2\n",
    "\n",
    "#number of clusters\n",
    "k = 4"
   ]
  },
  {
   "cell_type": "code",
   "execution_count": 31,
   "id": "5fbf8038-35d5-4650-b670-e8045ba40749",
   "metadata": {},
   "outputs": [],
   "source": [
    "## Feature Scaling\n",
    "sc_dfa = StandardScaler()\n",
    "\n",
    "# normalize the data to z-score scaling\n",
    "dfa_std = sc_dfa.fit_transform(df.astype(float))"
   ]
  },
  {
   "cell_type": "code",
   "execution_count": 34,
   "id": "05b458fd-e2c0-4255-81a2-d385ac775ad6",
   "metadata": {},
   "outputs": [
    {
     "data": {
      "text/plain": [
       "KMeans(n_clusters=4, random_state=38)"
      ]
     },
     "execution_count": 34,
     "metadata": {},
     "output_type": "execute_result"
    }
   ],
   "source": [
    "## Clustering with KMeans\n",
    "## Assign a cluster to each player\n",
    "kmeans = KMeans(n_clusters=k, random_state=38).fit(dfa_std)\n",
    "labels = kmeans.labels_"
   ]
  },
  {
   "cell_type": "code",
   "execution_count": 28,
   "id": "0d03d948-4100-460e-9e1d-e8746df994ec",
   "metadata": {},
   "outputs": [],
   "source": [
    "new_dfa = pd.DataFrame(data = dfa_std, columns = ['Ru Yds', 'Re Yds'])\n",
    "new_dfa['label_kmeans'] = labels"
   ]
  },
  {
   "cell_type": "markdown",
   "id": "6ce2988e-c5de-4f9f-ab23-6645ce2fd551",
   "metadata": {},
   "source": [
    "### Plot data broken out by cluster"
   ]
  },
  {
   "cell_type": "code",
   "execution_count": 37,
   "id": "ac975183-b06b-4aea-8dd5-868c005bfa5a",
   "metadata": {},
   "outputs": [
    {
     "data": {
      "image/png": "[encoded data removed]",
      "text/plain": [
       "<Figure size 720x504 with 1 Axes>"
      ]
     },
     "metadata": {
      "needs_background": "light"
     },
     "output_type": "display_data"
    }
   ],
   "source": [
    "fig, ax = plt.subplots(figsize=(10,7))\n",
    "\n",
    "plt.scatter(new_dfa[\"Ru Yds\"][new_dfa[\"label_kmeans\"] == 0], new_dfa[\"Re Yds\"][new_dfa[\"label_kmeans\"] == 0], \n",
    "            color = \"blue\", s=100, edgecolor='blue',linestyle='--')\n",
    "\n",
    "plt.scatter(new_dfa[\"Ru Yds\"][new_dfa[\"label_kmeans\"] == 1], new_dfa[\"Re Yds\"][new_dfa[\"label_kmeans\"] == 1], \n",
    "            color = \"yellow\", s=100, edgecolor='yellow',linestyle='--')\n",
    "\n",
    "plt.scatter(new_dfa[\"Ru Yds\"][new_dfa[\"label_kmeans\"] == 2], new_dfa[\"Re Yds\"][new_dfa[\"label_kmeans\"] == 2], \n",
    "            color = \"green\", s=100, edgecolor='green',linestyle='--')\n",
    "\n",
    "plt.scatter(new_dfa[\"Ru Yds\"][new_dfa[\"label_kmeans\"] == 3], new_dfa[\"Re Yds\"][new_dfa[\"label_kmeans\"] == 3], \n",
    "            color = \"orange\", s=100, edgecolor='orange',linestyle='--')\n",
    "\n",
    "\n",
    "\n",
    "centers = kmeans.cluster_centers_\n",
    "plt.scatter(centers[:, 0], centers[:, 1], c='black', s=500);\n",
    "\n",
    "ax.set_xlabel('Rushing Yds')\n",
    "ax.set_ylabel('Receiving Yds')\n",
    "\n",
    "plt.show()"
   ]
  },
  {
   "cell_type": "markdown",
   "id": "0ce44170-de30-4913-94d4-0bce468f5079",
   "metadata": {},
   "source": [
    "### Plot with Data Labels for the Players"
   ]
  },
  {
   "cell_type": "code",
   "execution_count": 39,
   "id": "cb79da11-567d-4b41-95dd-a72eda728a2b",
   "metadata": {},
   "outputs": [],
   "source": [
    "df_plot = df_final.join(new_dfa, lsuffix = '_left', rsuffix = '_right')\n",
    "\n",
    "#df_plot"
   ]
  },
  {
   "cell_type": "code",
   "execution_count": 42,
   "id": "3b1248be-3eef-462e-9a6b-099271700ff1",
   "metadata": {},
   "outputs": [
    {
     "data": {
      "image/png": "[encoded data removed]",
      "text/plain": [
       "<Figure size 720x504 with 1 Axes>"
      ]
     },
     "metadata": {
      "needs_background": "light"
     },
     "output_type": "display_data"
    }
   ],
   "source": [
    "fig, ax = plt.subplots(figsize=(10,7))\n",
    "\n",
    "plt.scatter(df_plot[\"Ru Yds_right\"][df_plot[\"label_kmeans\"] == 0], df_plot[\"Re Yds_right\"][df_plot[\"label_kmeans\"] == 0], \n",
    "            color = \"blue\", s=100, edgecolor='blue',linestyle='--')\n",
    "\n",
    "plt.scatter(df_plot[\"Ru Yds_right\"][df_plot[\"label_kmeans\"] == 1], df_plot[\"Re Yds_right\"][df_plot[\"label_kmeans\"] == 1], \n",
    "            color = \"yellow\", s=100, edgecolor='yellow',linestyle='--')\n",
    "\n",
    "plt.scatter(df_plot[\"Ru Yds_right\"][df_plot[\"label_kmeans\"] == 2], df_plot[\"Re Yds_right\"][df_plot[\"label_kmeans\"] == 2], \n",
    "            color = \"green\", s=100, edgecolor='green',linestyle='--')\n",
    "\n",
    "plt.scatter(df_plot[\"Ru Yds_right\"][df_plot[\"label_kmeans\"] == 3], df_plot[\"Re Yds_right\"][df_plot[\"label_kmeans\"] == 3], \n",
    "            color = \"orange\", s=100, edgecolor='orange',linestyle='--')\n",
    "\n",
    "\n",
    "centers = kmeans.cluster_centers_\n",
    "plt.scatter(centers[:, 0], centers[:, 1], c='black', s=500);\n",
    "\n",
    "ax.set_xlabel('Rushing Yds')\n",
    "ax.set_ylabel('Receiving Yds')\n",
    "\n",
    "#for i, txt in enumerate(df_plot['Player']):\n",
    "    #ax.annotate(txt, (df_plot['Ru Yds_left'][i], df_plot['Ru Yds_left'][i]))\n",
    "\n",
    "N = len(df_plot)\n",
    "data = df_plot\n",
    "labels = df_plot['Player']    \n",
    "\n",
    "for label, x, y in zip(labels, data['Ru Yds_right'], data['Re Yds_right']):\n",
    "    plt.annotate(\n",
    "        label,\n",
    "        xy=(x, y), xytext=(100, 20),\n",
    "        textcoords='offset points', ha='right', va='bottom',\n",
    "        bbox=dict(boxstyle='round,pad=0.5', fc='yellow', alpha=0.3),\n",
    "        arrowprops=dict(arrowstyle = '->', connectionstyle='arc3,rad=0'))\n",
    "    \n",
    "plt.show()"
   ]
  },
  {
   "cell_type": "markdown",
   "id": "5506fc7e",
   "metadata": {},
   "source": [
    "### Distribution of Rushing Yards by Player"
   ]
  },
  {
   "cell_type": "code",
   "execution_count": 17,
   "id": "a8969de5-07ad-4915-a2a5-02ff2feb2d58",
   "metadata": {},
   "outputs": [
    {
     "data": {
      "image/png": "[encoded data removed]",
      "text/plain": [
       "<Figure size 432x288 with 1 Axes>"
      ]
     },
     "metadata": {
      "needs_background": "light"
     },
     "output_type": "display_data"
    }
   ],
   "source": [
    "plt.hist(df_plot['Re Yds_left'], bins = 15);"
   ]
  },
  {
   "cell_type": "markdown",
   "id": "a2aed022",
   "metadata": {},
   "source": [
    "### Distribution of Rushing Yards by Player"
   ]
  },
  {
   "cell_type": "code",
   "execution_count": 18,
   "id": "be7ae803-d1f5-4732-91aa-d8dc0ace555a",
   "metadata": {},
   "outputs": [
    {
     "data": {
      "image/png": "[encoded data removed]",
      "text/plain": [
       "<Figure size 432x288 with 1 Axes>"
      ]
     },
     "metadata": {
      "needs_background": "light"
     },
     "output_type": "display_data"
    }
   ],
   "source": [
    "plt.hist(df_plot['Ru Yds_left'], bins = 100);"
   ]
  },
  {
   "cell_type": "markdown",
   "id": "1677e7ae",
   "metadata": {},
   "source": [
    "### Appendix - Other Number of Clusters"
   ]
  },
  {
   "cell_type": "code",
   "execution_count": 43,
   "id": "f2b4d547",
   "metadata": {},
   "outputs": [],
   "source": [
    "# For easier entry in the future:\n",
    "\n",
    "# dataframe \n",
    "df = df_final_2\n",
    "\n",
    "#number of clusters\n",
    "k = 2"
   ]
  },
  {
   "cell_type": "code",
   "execution_count": 44,
   "id": "ded5b18b",
   "metadata": {},
   "outputs": [],
   "source": [
    "## Feature Scaling\n",
    "sc_dfa = StandardScaler()\n",
    "\n",
    "# normalize the data to z-score scaling\n",
    "dfa_std = sc_dfa.fit_transform(df.astype(float))"
   ]
  },
  {
   "cell_type": "code",
   "execution_count": 45,
   "id": "d1f32126",
   "metadata": {},
   "outputs": [],
   "source": [
    "## Clustering with KMeans\n",
    "## Assign a cluster to each player\n",
    "kmeans = KMeans(n_clusters=k, random_state=38).fit(dfa_std)\n",
    "labels = kmeans.labels_"
   ]
  },
  {
   "cell_type": "code",
   "execution_count": 46,
   "id": "9ab5272e",
   "metadata": {},
   "outputs": [],
   "source": [
    "new_dfa = pd.DataFrame(data = dfa_std, columns = ['Ru Yds', 'Re Yds'])\n",
    "new_dfa['label_kmeans'] = labels"
   ]
  },
  {
   "cell_type": "code",
   "execution_count": 47,
   "id": "bba1a677",
   "metadata": {},
   "outputs": [
    {
     "data": {
      "image/png": "[encoded data removed]",
      "text/plain": [
       "<Figure size 720x504 with 1 Axes>"
      ]
     },
     "metadata": {
      "needs_background": "light"
     },
     "output_type": "display_data"
    }
   ],
   "source": [
    "fig, ax = plt.subplots(figsize=(10,7))\n",
    "\n",
    "plt.scatter(new_dfa[\"Ru Yds\"][new_dfa[\"label_kmeans\"] == 0], new_dfa[\"Re Yds\"][new_dfa[\"label_kmeans\"] == 0], \n",
    "            color = \"blue\", s=100, edgecolor='blue',linestyle='--')\n",
    "\n",
    "plt.scatter(new_dfa[\"Ru Yds\"][new_dfa[\"label_kmeans\"] == 1], new_dfa[\"Re Yds\"][new_dfa[\"label_kmeans\"] == 1], \n",
    "            color = \"yellow\", s=100, edgecolor='yellow',linestyle='--')\n",
    "\n",
    "\n",
    "\n",
    "\n",
    "centers = kmeans.cluster_centers_\n",
    "plt.scatter(centers[:, 0], centers[:, 1], c='black', s=500);\n",
    "\n",
    "ax.set_xlabel('Rushing Yds')\n",
    "ax.set_ylabel('Receiving Yds')\n",
    "\n",
    "plt.show()"
   ]
  },
  {
   "cell_type": "markdown",
   "id": "d56bc7c9",
   "metadata": {},
   "source": [
    "##### The two blue dots on the right (Hassan Haskins and Blake Corum) ran the ball so much more than everyone else, that they almost always belong in their own cluster. \n",
    "\n",
    "##### To increase the insights we can glean from this analysis, we had to add more a"
   ]
  },
  {
   "cell_type": "code",
   "execution_count": null,
   "id": "690523dc",
   "metadata": {},
   "outputs": [],
   "source": []
  }
 ],
 "metadata": {
  "kernelspec": {
   "display_name": "Python 3",
   "language": "python",
   "name": "python3"
  },
  "language_info": {
   "codemirror_mode": {
    "name": "ipython",
    "version": 3
   },
   "file_extension": ".py",
   "mimetype": "text/x-python",
   "name": "python",
   "nbconvert_exporter": "python",
   "pygments_lexer": "ipython3",
   "version": "3.8.8"
  }
 },
 "nbformat": 4,
 "nbformat_minor": 5
}
